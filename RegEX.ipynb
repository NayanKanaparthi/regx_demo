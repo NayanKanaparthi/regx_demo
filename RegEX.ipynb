{
  "nbformat": 4,
  "nbformat_minor": 0,
  "metadata": {
    "colab": {
      "provenance": [],
      "gpuType": "T4",
      "authorship_tag": "ABX9TyOwSQpRBicwlRc3G7w0Rbzv",
      "include_colab_link": true
    },
    "kernelspec": {
      "name": "python3",
      "display_name": "Python 3"
    },
    "language_info": {
      "name": "python"
    },
    "accelerator": "GPU"
  },
  "cells": [
    {
      "cell_type": "markdown",
      "metadata": {
        "id": "view-in-github",
        "colab_type": "text"
      },
      "source": [
        "<a href=\"https://colab.research.google.com/github/NayanKanaparthi/regx_demo/blob/main/RegEX.ipynb\" target=\"_parent\"><img src=\"https://colab.research.google.com/assets/colab-badge.svg\" alt=\"Open In Colab\"/></a>"
      ]
    },
    {
      "cell_type": "code",
      "execution_count": null,
      "metadata": {
        "id": "f7pvbXq82svu"
      },
      "outputs": [],
      "source": [
        "import re"
      ]
    },
    {
      "cell_type": "code",
      "source": [
        "#extracting mobile number and email id\n",
        "\n",
        "text = '''  Advantage phone number is 9876543210 and their revenue is 45,000 Indian rupees\n",
        "\n",
        "in US format the number can be (999)-967-9093\n",
        "\n",
        "\n",
        "The mail ids are\n",
        "\n",
        "abc@gmail.com\n",
        "Abc_82@gmail.com\n",
        "abc@advantagedigital.com\n",
        "'''\n",
        "mobilepattern ='\\(\\d{3}\\)-\\d{3}-\\d{4}|\\d{10}'\n",
        "emailpattern ='[a-z0-9A-Z_]*@[a-zA-Z]*\\.[a-z]*'\n",
        "\n",
        "emailmatches = re.findall(emailpattern,text)\n",
        "mobilematches = re.findall(mobilepattern,text)\n",
        "\n",
        "print(emailmatches)\n",
        "print(mobilematches)\n"
      ],
      "metadata": {
        "colab": {
          "base_uri": "https://localhost:8080/"
        },
        "id": "HlecovGs9LEc",
        "outputId": "91406574-3a90-4497-ad0e-570a9eba6ad9"
      },
      "execution_count": null,
      "outputs": [
        {
          "output_type": "stream",
          "name": "stdout",
          "text": [
            "['abc@gmail.com', 'Abc_82@gmail.com', 'abc@advantagedigital.com']\n",
            "['9876543210', '(999)-967-9093']\n"
          ]
        }
      ]
    },
    {
      "cell_type": "code",
      "source": [
        "#extracting order number\n",
        "chat1 = \"I'm having an issue with my order number #43210\"\n",
        "chat2 = \"My order 43210 is having a problem with delivery. I have been charged 300$ when it shows 280$\"\n",
        "chat3 = \"I have a problem with my order number 43210\"\n",
        "\n",
        "pattern = 'order[^\\d]*([\\d]*)'\n",
        "\n",
        "matches = re.findall(pattern,chat1)\n",
        "matches"
      ],
      "metadata": {
        "id": "yC9e36as9Qo6",
        "colab": {
          "base_uri": "https://localhost:8080/"
        },
        "outputId": "8bd51ad4-0862-43b6-cda9-920f6080b0a2"
      },
      "execution_count": null,
      "outputs": [
        {
          "output_type": "execute_result",
          "data": {
            "text/plain": [
              "['43210']"
            ]
          },
          "metadata": {},
          "execution_count": 13
        }
      ]
    },
    {
      "cell_type": "code",
      "source": [
        "#elonmusk wiki"
      ],
      "metadata": {
        "id": "lI6u_FxpZi4h"
      },
      "execution_count": null,
      "outputs": []
    },
    {
      "cell_type": "code",
      "source": [
        "etext = '''\n",
        "Born\tElon Reeve Musk\n",
        "June 28, 1971 (age 52)\n",
        "Pretoria, Transvaal, South Africa\n",
        "Education\tUniversity of Pennsylvania (BA, BS)\n",
        "Title\n",
        "Founder, CEO, and chief engineer of SpaceX\n",
        "CEO and product architect of Tesla, Inc.\n",
        "Owner and CTO of Twitter\n",
        "President of the Musk Foundation\n",
        "Founder of the Boring Company, and X.AI\n",
        "Co-founder of Neuralink, OpenAI, Zip2, and X.com (part of PayPal)\n",
        "Spouses\n",
        "Justine Wilson\n",
        "​\n",
        "​(m. 2000; div. 2008)​\n",
        "Talulah Riley\n",
        "​\n",
        "​(m. 2010; div. 2012)​\n",
        "​\n",
        "​(m. 2013; div. 2016)​\n",
        "Partner\tGrimes (2018–2021)[1]\n",
        "Children\t10[a][3]\n",
        "Parents\n",
        "Errol Musk (father)\n",
        "Maye Musk (mother)\n",
        "Family\tMusk family\n",
        "'''"
      ],
      "metadata": {
        "id": "5sSboBqhl9jq"
      },
      "execution_count": null,
      "outputs": []
    },
    {
      "cell_type": "code",
      "source": [
        "pattern = 'age (\\d+)'\n",
        "\n",
        "match= re.findall(pattern,etext)\n",
        "match\n"
      ],
      "metadata": {
        "colab": {
          "base_uri": "https://localhost:8080/"
        },
        "id": "O322MraJmBc4",
        "outputId": "374222e2-b360-4ee9-fe76-be3fd009e68f"
      },
      "execution_count": null,
      "outputs": [
        {
          "output_type": "execute_result",
          "data": {
            "text/plain": [
              "['52']"
            ]
          },
          "metadata": {},
          "execution_count": 16
        }
      ]
    },
    {
      "cell_type": "code",
      "source": [
        "pattern = 'Born(.*)'\n",
        "match = re.findall(pattern,etext)\n",
        "match[0].strip()"
      ],
      "metadata": {
        "colab": {
          "base_uri": "https://localhost:8080/",
          "height": 36
        },
        "id": "iSvYtkNnrK0a",
        "outputId": "99348474-ab56-4d5d-aebc-5cfa07fe5a29"
      },
      "execution_count": null,
      "outputs": [
        {
          "output_type": "execute_result",
          "data": {
            "text/plain": [
              "'Elon Reeve Musk'"
            ],
            "application/vnd.google.colaboratory.intrinsic+json": {
              "type": "string"
            }
          },
          "metadata": {},
          "execution_count": 17
        }
      ]
    },
    {
      "cell_type": "code",
      "source": [
        "pattern = 'Born.*\\n(.*)\\(age'\n",
        "match = re.findall(pattern,etext)\n",
        "match[0].strip()"
      ],
      "metadata": {
        "colab": {
          "base_uri": "https://localhost:8080/",
          "height": 36
        },
        "id": "uBiR9E-5sGoU",
        "outputId": "22e36423-8ed9-40f7-d463-ab76c769fbcf"
      },
      "execution_count": null,
      "outputs": [
        {
          "output_type": "execute_result",
          "data": {
            "text/plain": [
              "'June 28, 1971'"
            ],
            "application/vnd.google.colaboratory.intrinsic+json": {
              "type": "string"
            }
          },
          "metadata": {},
          "execution_count": 18
        }
      ]
    },
    {
      "cell_type": "code",
      "source": [
        "pattern = '\\(age.*\\n(.*)'\n",
        "match = re.findall(pattern,etext)\n",
        "match[0].strip()"
      ],
      "metadata": {
        "colab": {
          "base_uri": "https://localhost:8080/",
          "height": 36
        },
        "id": "St4im3VBs47s",
        "outputId": "e9a113cc-244a-403f-95a8-a174f0a1efe9"
      },
      "execution_count": null,
      "outputs": [
        {
          "output_type": "execute_result",
          "data": {
            "text/plain": [
              "'Pretoria, Transvaal, South Africa'"
            ],
            "application/vnd.google.colaboratory.intrinsic+json": {
              "type": "string"
            }
          },
          "metadata": {},
          "execution_count": 19
        }
      ]
    },
    {
      "cell_type": "code",
      "source": [
        "def get_pattern_match(pattern,etext):\n",
        "  match = re.findall(pattern,etext)\n",
        "  if match:\n",
        "    return match[0]"
      ],
      "metadata": {
        "id": "S2_jBHnLtjy-"
      },
      "execution_count": null,
      "outputs": []
    },
    {
      "cell_type": "code",
      "source": [
        "def get_personal_info(text):\n",
        "  age = get_pattern_match('age (\\d+)',text)\n",
        "  full_name = get_pattern_match('Born(.*)\\n',text)\n",
        "  DOB = get_pattern_match('Born.*\\n(.*)\\(age',text)\n",
        "  POB = get_pattern_match('\\(age.*\\n(.*)',text)\n",
        "\n",
        "  return {\n",
        "      'age': int(age),\n",
        "      'Full Name':full_name.strip(),\n",
        "      'Date of Birth':DOB.strip(),\n",
        "      'Place of Birth':POB.strip()\n",
        "  }"
      ],
      "metadata": {
        "id": "uLIjvHBTtyLY"
      },
      "execution_count": null,
      "outputs": []
    },
    {
      "cell_type": "code",
      "source": [
        "get_personal_info(etext)"
      ],
      "metadata": {
        "colab": {
          "base_uri": "https://localhost:8080/"
        },
        "id": "eH27A3U0t4ou",
        "outputId": "9332819f-4088-4c56-8e62-5e8d6ac69d8c"
      },
      "execution_count": null,
      "outputs": [
        {
          "output_type": "execute_result",
          "data": {
            "text/plain": [
              "{'age': 52,\n",
              " 'Full Name': 'Elon Reeve Musk',\n",
              " 'Date of Birth': 'June 28, 1971',\n",
              " 'Place of Birth': 'Pretoria, Transvaal, South Africa'}"
            ]
          },
          "metadata": {},
          "execution_count": 35
        }
      ]
    },
    {
      "cell_type": "code",
      "source": [],
      "metadata": {
        "id": "xLmd5E_-vhxL"
      },
      "execution_count": null,
      "outputs": []
    }
  ]
}